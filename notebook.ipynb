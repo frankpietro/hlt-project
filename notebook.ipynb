{
 "cells": [
  {
   "cell_type": "markdown",
   "id": "46dfd288",
   "metadata": {},
   "source": [
    "# Key Point Analysis"
   ]
  },
  {
   "cell_type": "code",
   "execution_count": 1,
   "id": "333830a6-c203-4276-8c9f-e6bcfe4ad787",
   "metadata": {},
   "outputs": [],
   "source": [
    "import pandas as pd\n",
    "import numpy as np\n",
    "import torch\n",
    "\n",
    "from sentence_transformers import SentenceTransformer\n",
    "from sentence_transformers.losses import ContrastiveLoss, CosineSimilarityLoss\n",
    "from sentence_transformers.models import Transformer, Pooling\n",
    "from sentence_transformers.evaluation import EmbeddingSimilarityEvaluator\n",
    "\n",
    "from torch.utils.data import DataLoader\n",
    "\n",
    "import constants as c\n",
    "import utilities as u\n",
    "import model as m"
   ]
  },
  {
   "cell_type": "markdown",
   "id": "8a874462",
   "metadata": {},
   "source": [
    "## 1. Data Preprocessing"
   ]
  },
  {
   "cell_type": "code",
   "execution_count": 2,
   "id": "b1c7f13d",
   "metadata": {},
   "outputs": [],
   "source": [
    "for data_type in [c.TRAIN, c.TEST, c.DEV]:\n",
    "    # labels, key point and arguments datasets are loaded\n",
    "    labels_df = pd.read_csv(c.DATA_DIR + \"labels_\" + data_type + \".csv\")\n",
    "    kp_df = pd.read_csv(c.DATA_DIR + \"key_points_\" + data_type + \".csv\")\n",
    "    arg_df = pd.read_csv(c.DATA_DIR + \"arguments_\" + data_type + \".csv\")\n",
    "\n",
    "    # the datasets are merged together\n",
    "    result_df = pd.merge(labels_df, arg_df)\n",
    "    result_df = pd.merge(result_df, kp_df)\n",
    "\n",
    "    # an additional \"topic_key_point\" column is created, as the concatenation of the topics and the key points themselves\n",
    "    result_df[c.TOPIC_KP] = result_df.apply(lambda x: x[c.TOPIC] + \" <SEP> \" + x[c.KP], axis = 1)\n",
    "    \n",
    "    # the unnecessary information are discarded and the dataset is saved \n",
    "    result_df = result_df[[c.ARG, c.TOPIC_KP, c.LABEL, c.STANCE]]\n",
    "    result_df.to_csv(c.DATA_DIR + data_type + \".csv\", index = None)"
   ]
  },
  {
   "attachments": {},
   "cell_type": "markdown",
   "id": "7496a797",
   "metadata": {},
   "source": [
    "## 2. Training the models"
   ]
  },
  {
   "attachments": {},
   "cell_type": "markdown",
   "id": "7014b306",
   "metadata": {},
   "source": [
    "### RoBERTa-base with contrastive loss"
   ]
  },
  {
   "cell_type": "code",
   "execution_count": 3,
   "id": "5977851c",
   "metadata": {},
   "outputs": [],
   "source": [
    "def fit_model(model_folder_name, model_name=c.BASE, batch_size=c.DEF_BATCH_SIZE, loss=c.CONTRASTIVE_LOSS, epochs=c.DEF_EPOCHS, learning_rate=c.DEF_LEARNING_RATE):\n",
    "    folder_path = c.MODELS_DIR + model_folder_name\n",
    "            \n",
    "    if u.is_model_present(model_folder_name):\n",
    "        # load the pre-trained model\n",
    "        model = SentenceTransformer(folder_path)\n",
    "    \n",
    "    else:\n",
    "        # empty the folder for the model if present\n",
    "        u.create_folder(folder_path)\n",
    "\n",
    "        # use the RoBERTa pre-trained language model, fine-tuned for sentence embedding\n",
    "        # word_embedding_model = Transformer(\"roberta-base\", max_seq_length=c.DEF_MAX_SEQ_LENGTH)\n",
    "        word_embedding_model = Transformer(model_name)\n",
    "\n",
    "        # add the <SEP> token to the tokenizer (used to concatenate topic and key point)\n",
    "        word_embedding_model.tokenizer.add_tokens([\"<SEP>\"], special_tokens=True)\n",
    "        # resize the embedding matrix to include the new token\n",
    "        word_embedding_model.auto_model.resize_token_embeddings(len(word_embedding_model.tokenizer))\n",
    "\n",
    "        # pooling aggregates the embeddings of the tokens in a fixed-size vector\n",
    "        pooling_model = Pooling(word_embedding_model.get_word_embedding_dimension())\n",
    "\n",
    "        # the sentence transformer is the concatenation of the word embedding model and the pooling model\n",
    "        model = SentenceTransformer(modules=[word_embedding_model, pooling_model])\n",
    "\n",
    "        # train samples: list of InputExample objects\n",
    "        train_samples = u.create_samples(\"train.csv\")\n",
    "\n",
    "        train_dataloader = DataLoader(train_samples, shuffle=False, batch_size=batch_size)\n",
    "\n",
    "        # TODO: check if shuffle is needed\n",
    "\n",
    "        # contrastive loss: the model is trained\n",
    "        # to minimize the distance between the embeddings\n",
    "        # of the topic+key point and the argument\n",
    "        # if they are in the same stance,\n",
    "        # and to maximize the distance if they are in different stances\n",
    "        train_loss = ContrastiveLoss(model)\n",
    "\n",
    "        # TODO: check if we can use other losses, e.g. CosineSimilarityLoss\n",
    "\n",
    "        # train the model with the train samples\n",
    "        # default optimizer: AdamW (adaptive moment estimation + weight decay)\n",
    "        # default learning rate: 2e-5\n",
    "        # default weight decay: 0.01\n",
    "        model.fit(\n",
    "            train_objectives = [(train_dataloader, train_loss)],\n",
    "            epochs = epochs,\n",
    "            output_path = c.MODELS_DIR + model_folder_name,\n",
    "            show_progress_bar = True,\n",
    "            optimizer_params = {'lr': learning_rate}\n",
    "        )\n",
    "    \n",
    "    model_wrapper = m.Model(model, folder_path)\n",
    "    return model_wrapper"
   ]
  },
  {
   "cell_type": "code",
   "execution_count": 4,
   "id": "0327e900",
   "metadata": {},
   "outputs": [
    {
     "ename": "NameError",
     "evalue": "name 'big_batch_model' is not defined",
     "output_type": "error",
     "traceback": [
      "\u001b[0;31m---------------------------------------------------------------------------\u001b[0m",
      "\u001b[0;31mNameError\u001b[0m                                 Traceback (most recent call last)",
      "\u001b[1;32m/home/frankp/unipi/hlt/project/notebook.ipynb Cell 8\u001b[0m in \u001b[0;36m<cell line: 10>\u001b[0;34m()\u001b[0m\n\u001b[1;32m      <a href='vscode-notebook-cell:/home/frankp/unipi/hlt/project/notebook.ipynb#X10sZmlsZQ%3D%3D?line=6'>7</a>\u001b[0m less_epochs_model \u001b[39m=\u001b[39m fit_model(c\u001b[39m.\u001b[39mBASE \u001b[39m+\u001b[39m \u001b[39m\"\u001b[39m\u001b[39m_less-epochs\u001b[39m\u001b[39m\"\u001b[39m, epochs\u001b[39m=\u001b[39m\u001b[39m4\u001b[39m)\n\u001b[1;32m      <a href='vscode-notebook-cell:/home/frankp/unipi/hlt/project/notebook.ipynb#X10sZmlsZQ%3D%3D?line=7'>8</a>\u001b[0m \u001b[39m# cs_loss_model = fit_model(c.BASE + \"_cs-loss\", loss=c.COSINE_SIMILARITY_LOSS)\u001b[39;00m\n\u001b[0;32m---> <a href='vscode-notebook-cell:/home/frankp/unipi/hlt/project/notebook.ipynb#X10sZmlsZQ%3D%3D?line=9'>10</a>\u001b[0m models \u001b[39m=\u001b[39m [base_model, high_lr_model, low_lr_model, big_batch_model, small_batch_model, more_epochs_model, less_epochs_model]\n",
      "\u001b[0;31mNameError\u001b[0m: name 'big_batch_model' is not defined"
     ]
    }
   ],
   "source": [
    "base_model_wrapper = fit_model(c.BASE)\n",
    "high_lr_model_wrapper = fit_model(c.BASE + \"_high-lr\", learning_rate=3e-5)\n",
    "low_lr_model_wrapper = fit_model(c.BASE + \"_low-lr\", learning_rate=1e-5)\n",
    "# big_batch_model_wrapper = fit_model(c.BASE + \"_big-batch\", batch_size=32)\n",
    "small_batch_model_wrapper = fit_model(c.BASE + \"_small-batch\", batch_size=4)\n",
    "more_epochs_model_wrapper = fit_model(c.BASE + \"_more-epochs\", epochs=12)\n",
    "less_epochs_model_wrapper = fit_model(c.BASE + \"_less-epochs\", epochs=4)\n",
    "# cs_loss_model_wrapper = fit_model(c.BASE + \"_cs-loss\", loss=c.COSINE_SIMILARITY_LOSS)\n",
    "\n",
    "wrappers = [base_model_wrapper, high_lr_model_wrapper, low_lr_model_wrapper, small_batch_model_wrapper, more_epochs_model_wrapper, less_epochs_model_wrapper]"
   ]
  },
  {
   "attachments": {},
   "cell_type": "markdown",
   "id": "0e9831df",
   "metadata": {},
   "source": [
    "### Siamese BERT"
   ]
  },
  {
   "attachments": {},
   "cell_type": "markdown",
   "id": "c40f751a",
   "metadata": {},
   "source": [
    "## 3. Selecting best model"
   ]
  },
  {
   "cell_type": "code",
   "execution_count": 23,
   "id": "59691380",
   "metadata": {},
   "outputs": [
    {
     "ename": "IndexError",
     "evalue": "list index out of range",
     "output_type": "error",
     "traceback": [
      "\u001b[0;31m---------------------------------------------------------------------------\u001b[0m",
      "\u001b[0;31mIndexError\u001b[0m                                Traceback (most recent call last)",
      "\u001b[1;32m/home/frankp/unipi/hlt/project/notebook.ipynb Cell 12\u001b[0m in \u001b[0;36m<cell line: 17>\u001b[0;34m()\u001b[0m\n\u001b[1;32m      <a href='vscode-notebook-cell:/home/frankp/unipi/hlt/project/notebook.ipynb#X13sZmlsZQ%3D%3D?line=3'>4</a>\u001b[0m     \u001b[39m# model_name = [k for k,v in models if v is model][0]\u001b[39;00m\n\u001b[1;32m      <a href='vscode-notebook-cell:/home/frankp/unipi/hlt/project/notebook.ipynb#X13sZmlsZQ%3D%3D?line=4'>5</a>\u001b[0m     \u001b[39m# print(model_name)\u001b[39;00m\n\u001b[1;32m      <a href='vscode-notebook-cell:/home/frankp/unipi/hlt/project/notebook.ipynb#X13sZmlsZQ%3D%3D?line=5'>6</a>\u001b[0m     \u001b[39m# model_prefix = model_name.split(\"_\")[:-1]\u001b[39;00m\n\u001b[0;32m   (...)\u001b[0m\n\u001b[1;32m     <a href='vscode-notebook-cell:/home/frankp/unipi/hlt/project/notebook.ipynb#X13sZmlsZQ%3D%3D?line=13'>14</a>\u001b[0m     \u001b[39m# print(f\"model_path: {model_path}\")\u001b[39;00m\n\u001b[1;32m     <a href='vscode-notebook-cell:/home/frankp/unipi/hlt/project/notebook.ipynb#X13sZmlsZQ%3D%3D?line=14'>15</a>\u001b[0m     \u001b[39m# return model_path\u001b[39;00m\n\u001b[1;32m     <a href='vscode-notebook-cell:/home/frankp/unipi/hlt/project/notebook.ipynb#X13sZmlsZQ%3D%3D?line=16'>17</a>\u001b[0m \u001b[39mfor\u001b[39;00m model \u001b[39min\u001b[39;00m models:\n\u001b[0;32m---> <a href='vscode-notebook-cell:/home/frankp/unipi/hlt/project/notebook.ipynb#X13sZmlsZQ%3D%3D?line=17'>18</a>\u001b[0m     model_path \u001b[39m=\u001b[39m get_model_path(model, models)\n",
      "\u001b[1;32m/home/frankp/unipi/hlt/project/notebook.ipynb Cell 12\u001b[0m in \u001b[0;36mget_model_path\u001b[0;34m(model, models)\u001b[0m\n\u001b[1;32m      <a href='vscode-notebook-cell:/home/frankp/unipi/hlt/project/notebook.ipynb#X13sZmlsZQ%3D%3D?line=0'>1</a>\u001b[0m \u001b[39mdef\u001b[39;00m \u001b[39mget_model_path\u001b[39m(model, models):\n\u001b[0;32m----> <a href='vscode-notebook-cell:/home/frankp/unipi/hlt/project/notebook.ipynb#X13sZmlsZQ%3D%3D?line=1'>2</a>\u001b[0m     model_name \u001b[39m=\u001b[39m [k \u001b[39mfor\u001b[39;49;00m k,v \u001b[39min\u001b[39;49;00m models \u001b[39mif\u001b[39;49;00m v \u001b[39mis\u001b[39;49;00m model][\u001b[39m0\u001b[39;49m]\n",
      "\u001b[0;31mIndexError\u001b[0m: list index out of range"
     ]
    }
   ],
   "source": [
    "for wrapper in wrappers:\n",
    "    model = wrapper.model\n",
    "    folder_path = wrapper.folder_path\n",
    "\n",
    "    # evaluate the model with dev samples\n",
    "    dev_samples = u.create_samples(\"dev.csv\")\n",
    "    dev_evaluator = EmbeddingSimilarityEvaluator.from_input_examples(dev_samples, name=\"dev\")\n",
    "    model.evaluate(dev_evaluator, output_path=folder_path + \"/eval/\")"
   ]
  },
  {
   "cell_type": "code",
   "execution_count": null,
   "id": "af67fe69",
   "metadata": {},
   "outputs": [],
   "source": [
    "# for each argument, output its match score for each of the key points under the same topic and in the same stance towards the topic\n",
    "# the match score is the cosine similarity between the embedding of the argument and the embedding of the topic+key point\n",
    "# the output is a csv file with the following columns:\n",
    "# - argument\n",
    "# - topic\n",
    "# - key point\n",
    "# - stance\n",
    "# - match score\n",
    "def evaluate(model, csv_file, output_file):\n",
    "    # load the dataset\n",
    "    df = pd.read_csv(c.DATA_DIR + csv_file)\n",
    "    \n",
    "    # create a new column with the embedding of the topic+key point\n",
    "    df[c.TOPIC_KP + \"_emb\"] = df[c.TOPIC_KP].apply(lambda x: model.encode(x))\n",
    "    \n",
    "    # create a new column with the embedding of the argument\n",
    "    df[c.ARG + \"_emb\"] = df[c.ARG].apply(lambda x: model.encode(x))\n",
    "    \n",
    "    # create a new column with the match score (cosine similarity)\n",
    "    df[c.SCORE] = df.apply(lambda x: u.cosine_similarity(x[c.TOPIC_KP + \"_emb\"], x[c.ARG + \"_emb\"]), axis = 1)\n",
    "    \n",
    "    # discard the unnecessary information\n",
    "    df = df[[c.ARG, c.TOPIC_KP, c.STANCE, c.SCORE]]\n",
    "\n",
    "    # save the dataset\n",
    "    df.to_csv(c.EVAL_DIR + output_file, index=None)\n",
    "\n",
    "\n",
    "# evaluate the model with the dev dataset\n",
    "evaluate(model, \"dev.csv\", c.BASE + \"_eval.csv\")"
   ]
  },
  {
   "attachments": {},
   "cell_type": "markdown",
   "id": "5f40a377",
   "metadata": {},
   "source": [
    "## 4. Testing the best model"
   ]
  },
  {
   "cell_type": "code",
   "execution_count": null,
   "metadata": {},
   "outputs": [],
   "source": [
    "# evaluate the model on the test set\n",
    "test_samples = u.create_samples(\"test.csv\", type=1)\n",
    "\n",
    "# Evaluate the model on each test example\n",
    "correct_predictions = 0\n",
    "total_predictions = len(test_samples)\n",
    "\n",
    "for sample in test_samples:\n",
    "    # Get the embeddings for the argument and keypoint\n",
    "    arg_embedding = model.encode(sample[c.ARG], convert_to_tensor=True)\n",
    "    key_embedding = model.encode(sample[c.TOPIC_KP], convert_to_tensor=True)\n",
    "    \n",
    "    # Compute the cosine similarity between the embeddings\n",
    "    similarity = 1 - np.cos(arg_embedding, key_embedding)\n",
    "    \n",
    "    # Predict the label based on the similarity\n",
    "    predicted_label = int(similarity > 0.5)\n",
    "    \n",
    "    # Compare the predicted label to the true label and count the number of correct predictions\n",
    "    if predicted_label == sample[c.LABEL]:\n",
    "        correct_predictions += 1\n",
    "        \n",
    "# Compute the accuracy\n",
    "accuracy = correct_predictions / total_predictions\n",
    "\n",
    "print(f\"Accuracy: {accuracy:.2f}\")"
   ]
  }
 ],
 "metadata": {
  "kernelspec": {
   "display_name": "Python 3",
   "language": "python",
   "name": "python3"
  },
  "language_info": {
   "codemirror_mode": {
    "name": "ipython",
    "version": 3
   },
   "file_extension": ".py",
   "mimetype": "text/x-python",
   "name": "python",
   "nbconvert_exporter": "python",
   "pygments_lexer": "ipython3",
   "version": "3.10.6"
  },
  "vscode": {
   "interpreter": {
    "hash": "31f2aee4e71d21fbe5cf8b01ff0e069b9275f58929596ceb00d14d90e3e16cd6"
   }
  }
 },
 "nbformat": 4,
 "nbformat_minor": 5
}
