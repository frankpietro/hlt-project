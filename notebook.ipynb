{
 "cells": [
  {
   "cell_type": "markdown",
   "id": "46dfd288",
   "metadata": {},
   "source": [
    "# Key Point Analysis"
   ]
  },
  {
   "cell_type": "code",
   "execution_count": 1,
   "id": "333830a6-c203-4276-8c9f-e6bcfe4ad787",
   "metadata": {},
   "outputs": [],
   "source": [
    "import pandas as pd\n",
    "import numpy as np\n",
    "\n",
    "from sentence_transformers import SentenceTransformer\n",
    "from sentence_transformers.losses import ContrastiveLoss\n",
    "from sentence_transformers.models import Transformer, Pooling\n",
    "\n",
    "from torch.utils.data import DataLoader\n",
    "\n",
    "import constants as c\n",
    "import utilities as u"
   ]
  },
  {
   "cell_type": "markdown",
   "id": "8a874462",
   "metadata": {},
   "source": [
    "## 1. Data Preprocessing"
   ]
  },
  {
   "cell_type": "code",
   "execution_count": 2,
   "id": "b1c7f13d",
   "metadata": {},
   "outputs": [],
   "source": [
    "for data_type in [c.TRAIN, c.TEST, c.DEV]:\n",
    "    # labels, key point and arguments datasets are loaded\n",
    "    labels_df = pd.read_csv(c.DATA_DIR + \"labels_\" + data_type + \".csv\")\n",
    "    kp_df = pd.read_csv(c.DATA_DIR + \"key_points_\" + data_type + \".csv\")\n",
    "    arg_df = pd.read_csv(c.DATA_DIR + \"arguments_\" + data_type + \".csv\")\n",
    "\n",
    "    # the datasets are merged together\n",
    "    result_df = pd.merge(labels_df, arg_df)\n",
    "    result_df = pd.merge(result_df, kp_df)\n",
    "\n",
    "    # an additional \"topic_key_point\" column is created, as the concatenation of the topics and the key points themselves\n",
    "    result_df[c.TOPIC_KP] = result_df.apply(lambda x: x[c.TOPIC] + \" <SEP> \" + x[c.KP], axis = 1)\n",
    "    \n",
    "    # the unnecessary information are discarded and the dataset is saved \n",
    "    result_df = result_df[[c.ARG, c.TOPIC_KP, c.LABEL]]\n",
    "    result_df.to_csv(c.DATA_DIR + data_type + \".csv\", index = None)"
   ]
  },
  {
   "cell_type": "markdown",
   "id": "7496a797",
   "metadata": {},
   "source": [
    "## 2. Training the Model"
   ]
  },
  {
   "cell_type": "code",
   "execution_count": 3,
   "id": "5977851c",
   "metadata": {},
   "outputs": [
    {
     "name": "stderr",
     "output_type": "stream",
     "text": [
      "Some weights of the model checkpoint at roberta-base were not used when initializing RobertaModel: ['lm_head.dense.weight', 'lm_head.dense.bias', 'lm_head.bias', 'lm_head.layer_norm.bias', 'lm_head.decoder.weight', 'lm_head.layer_norm.weight']\n",
      "- This IS expected if you are initializing RobertaModel from the checkpoint of a model trained on another task or with another architecture (e.g. initializing a BertForSequenceClassification model from a BertForPreTraining model).\n",
      "- This IS NOT expected if you are initializing RobertaModel from the checkpoint of a model that you expect to be exactly identical (initializing a BertForSequenceClassification model from a BertForSequenceClassification model).\n"
     ]
    }
   ],
   "source": [
    "# use the RoBERTa pre-trained language model, fine-tuned for sentence embedding\n",
    "word_embedding_model = Transformer(\"roberta-base\", max_seq_length=c.DEF_MAX_SEQ_LENGTH)\n",
    "# add the <SEP> token to the tokenizer\n",
    "word_embedding_model.tokenizer.add_tokens([\"<SEP>\"], special_tokens = True)\n",
    "# resize the embedding matrix to include the new token\n",
    "word_embedding_model.auto_model.resize_token_embeddings(len(word_embedding_model.tokenizer))\n",
    "\n",
    "# pooling aggregates the embeddings of the tokens in a fixed-size vector\n",
    "pooling_model = Pooling(word_embedding_model.get_word_embedding_dimension())\n",
    "\n",
    "# the sentence transformer is the concatenation of the word embedding model and the pooling model\n",
    "model = SentenceTransformer(modules=[word_embedding_model, pooling_model])"
   ]
  },
  {
   "cell_type": "code",
   "execution_count": 4,
   "id": "7a46a867",
   "metadata": {},
   "outputs": [
    {
     "data": {
      "application/vnd.jupyter.widget-view+json": {
       "model_id": "2a6f5ab6027d48ab9588c4a85fec14d6",
       "version_major": 2,
       "version_minor": 0
      },
      "text/plain": [
       "Epoch:   0%|          | 0/8 [00:00<?, ?it/s]"
      ]
     },
     "metadata": {},
     "output_type": "display_data"
    },
    {
     "data": {
      "application/vnd.jupyter.widget-view+json": {
       "model_id": "3574dc2348844beeb785c88efa74d874",
       "version_major": 2,
       "version_minor": 0
      },
      "text/plain": [
       "Iteration:   0%|          | 0/100 [00:00<?, ?it/s]"
      ]
     },
     "metadata": {},
     "output_type": "display_data"
    },
    {
     "data": {
      "application/vnd.jupyter.widget-view+json": {
       "model_id": "96354bd9b01f4237bd97bad995e231db",
       "version_major": 2,
       "version_minor": 0
      },
      "text/plain": [
       "Iteration:   0%|          | 0/100 [00:00<?, ?it/s]"
      ]
     },
     "metadata": {},
     "output_type": "display_data"
    },
    {
     "data": {
      "application/vnd.jupyter.widget-view+json": {
       "model_id": "a47ca473e4874a65a925f846174ff69d",
       "version_major": 2,
       "version_minor": 0
      },
      "text/plain": [
       "Iteration:   0%|          | 0/100 [00:00<?, ?it/s]"
      ]
     },
     "metadata": {},
     "output_type": "display_data"
    },
    {
     "data": {
      "application/vnd.jupyter.widget-view+json": {
       "model_id": "05980fef70e94b1092456641a0de6699",
       "version_major": 2,
       "version_minor": 0
      },
      "text/plain": [
       "Iteration:   0%|          | 0/100 [00:00<?, ?it/s]"
      ]
     },
     "metadata": {},
     "output_type": "display_data"
    },
    {
     "data": {
      "application/vnd.jupyter.widget-view+json": {
       "model_id": "72bd43620cd84985a09463a772b66304",
       "version_major": 2,
       "version_minor": 0
      },
      "text/plain": [
       "Iteration:   0%|          | 0/100 [00:00<?, ?it/s]"
      ]
     },
     "metadata": {},
     "output_type": "display_data"
    },
    {
     "data": {
      "application/vnd.jupyter.widget-view+json": {
       "model_id": "83fe1bd5ad6d47fa881ca7ebd9b8656d",
       "version_major": 2,
       "version_minor": 0
      },
      "text/plain": [
       "Iteration:   0%|          | 0/100 [00:00<?, ?it/s]"
      ]
     },
     "metadata": {},
     "output_type": "display_data"
    },
    {
     "data": {
      "application/vnd.jupyter.widget-view+json": {
       "model_id": "e5b8d4e623be41bb8e438c286bb6a449",
       "version_major": 2,
       "version_minor": 0
      },
      "text/plain": [
       "Iteration:   0%|          | 0/100 [00:00<?, ?it/s]"
      ]
     },
     "metadata": {},
     "output_type": "display_data"
    },
    {
     "data": {
      "application/vnd.jupyter.widget-view+json": {
       "model_id": "0778e22e60784fb1bf7028dc9b374b47",
       "version_major": 2,
       "version_minor": 0
      },
      "text/plain": [
       "Iteration:   0%|          | 0/100 [00:00<?, ?it/s]"
      ]
     },
     "metadata": {},
     "output_type": "display_data"
    }
   ],
   "source": [
    "# train samples: list of InputExample objects\n",
    "train_samples = u.create_samples(\"train.csv\", size=1600)\n",
    "\n",
    "train_dataloader = DataLoader(train_samples, shuffle=False, batch_size=c.DEF_BATCH_SIZE)\n",
    "train_loss = ContrastiveLoss(model)\n",
    "\n",
    "model.fit(\n",
    "    train_objectives = [(train_dataloader, train_loss)],\n",
    "    epochs = c.DEF_EPOCHS,\n",
    "    output_path = c.MODELS_DIR\n",
    ")"
   ]
  },
  {
   "attachments": {},
   "cell_type": "markdown",
   "id": "c40f751a",
   "metadata": {},
   "source": [
    "## 3. Testing the model"
   ]
  },
  {
   "cell_type": "code",
   "execution_count": 9,
   "id": "59691380",
   "metadata": {},
   "outputs": [
    {
     "ename": "TypeError",
     "evalue": "return arrays must be of ArrayType",
     "output_type": "error",
     "traceback": [
      "\u001b[0;31m---------------------------------------------------------------------------\u001b[0m",
      "\u001b[0;31mTypeError\u001b[0m                                 Traceback (most recent call last)",
      "\u001b[1;32m/home/frankp/unipi/hlt/piv/notebook.ipynb Cell 9\u001b[0m in \u001b[0;36m<cell line: 8>\u001b[0;34m()\u001b[0m\n\u001b[1;32m     <a href='vscode-notebook-cell:/home/frankp/unipi/hlt/piv/notebook.ipynb#X12sZmlsZQ%3D%3D?line=10'>11</a>\u001b[0m key_embedding \u001b[39m=\u001b[39m model\u001b[39m.\u001b[39mencode(sample[c\u001b[39m.\u001b[39mTOPIC_KP], convert_to_tensor\u001b[39m=\u001b[39m\u001b[39mTrue\u001b[39;00m)\n\u001b[1;32m     <a href='vscode-notebook-cell:/home/frankp/unipi/hlt/piv/notebook.ipynb#X12sZmlsZQ%3D%3D?line=12'>13</a>\u001b[0m \u001b[39m# Compute the cosine similarity between the embeddings\u001b[39;00m\n\u001b[0;32m---> <a href='vscode-notebook-cell:/home/frankp/unipi/hlt/piv/notebook.ipynb#X12sZmlsZQ%3D%3D?line=13'>14</a>\u001b[0m similarity \u001b[39m=\u001b[39m \u001b[39m1\u001b[39m \u001b[39m-\u001b[39m np\u001b[39m.\u001b[39;49mcos(arg_embedding\u001b[39m.\u001b[39;49mcpu(), key_embedding\u001b[39m.\u001b[39;49mcpu())\n\u001b[1;32m     <a href='vscode-notebook-cell:/home/frankp/unipi/hlt/piv/notebook.ipynb#X12sZmlsZQ%3D%3D?line=15'>16</a>\u001b[0m \u001b[39m# Predict the label based on the similarity\u001b[39;00m\n\u001b[1;32m     <a href='vscode-notebook-cell:/home/frankp/unipi/hlt/piv/notebook.ipynb#X12sZmlsZQ%3D%3D?line=16'>17</a>\u001b[0m predicted_label \u001b[39m=\u001b[39m \u001b[39mint\u001b[39m(similarity \u001b[39m>\u001b[39m \u001b[39m0.5\u001b[39m)\n",
      "\u001b[0;31mTypeError\u001b[0m: return arrays must be of ArrayType"
     ]
    }
   ],
   "source": [
    "# evaluate the model on the test set\n",
    "test_samples = u.create_samples(\"test.csv\", type=1)\n",
    "\n",
    "# Evaluate the model on each test example\n",
    "correct_predictions = 0\n",
    "total_predictions = len(test_samples)\n",
    "\n",
    "for sample in test_samples:\n",
    "    # Get the embeddings for the argument and keypoint\n",
    "    arg_embedding = model.encode(sample[c.ARG], convert_to_tensor=True)\n",
    "    key_embedding = model.encode(sample[c.TOPIC_KP], convert_to_tensor=True)\n",
    "    \n",
    "    # Compute the cosine similarity between the embeddings\n",
    "    similarity = 1 - np.cos(arg_embedding, key_embedding)\n",
    "    \n",
    "    # Predict the label based on the similarity\n",
    "    predicted_label = int(similarity > 0.5)\n",
    "    \n",
    "    # Compare the predicted label to the true label and count the number of correct predictions\n",
    "    if predicted_label == sample[c.LABEL]:\n",
    "        correct_predictions += 1\n",
    "        \n",
    "# Compute the accuracy\n",
    "accuracy = correct_predictions / total_predictions\n",
    "\n",
    "print(f\"Accuracy: {accuracy:.2f}\")"
   ]
  },
  {
   "cell_type": "code",
   "execution_count": null,
   "metadata": {},
   "outputs": [],
   "source": []
  }
 ],
 "metadata": {
  "kernelspec": {
   "display_name": "Python 3",
   "language": "python",
   "name": "python3"
  },
  "language_info": {
   "codemirror_mode": {
    "name": "ipython",
    "version": 3
   },
   "file_extension": ".py",
   "mimetype": "text/x-python",
   "name": "python",
   "nbconvert_exporter": "python",
   "pygments_lexer": "ipython3",
   "version": "3.10.6"
  },
  "vscode": {
   "interpreter": {
    "hash": "31f2aee4e71d21fbe5cf8b01ff0e069b9275f58929596ceb00d14d90e3e16cd6"
   }
  }
 },
 "nbformat": 4,
 "nbformat_minor": 5
}
